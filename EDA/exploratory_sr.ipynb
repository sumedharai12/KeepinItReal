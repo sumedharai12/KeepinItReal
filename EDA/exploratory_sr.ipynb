{
 "cells": [
  {
   "cell_type": "markdown",
   "metadata": {},
   "source": [
    "### Fake Review Detection\n"
   ]
  },
  {
   "cell_type": "markdown",
   "metadata": {},
   "source": [
    "#### Plan:\n",
    "1. Load the training and development data \n",
    "2. Clean data (following the repo below)\n",
    "3. Feature engineering - will create new features for analyzing data \n",
    "4. Undersampling/ Oversampling (read up on this more)\n",
    "5. Model\n",
    "6. Confusion Matrix, auROC, AP evaluation methods"
   ]
  },
  {
   "cell_type": "markdown",
   "metadata": {},
   "source": [
    "https://github.com/darshandagly/Fake-Review-Detection/blob/master/Code/main.py"
   ]
  },
  {
   "cell_type": "code",
   "execution_count": 2,
   "metadata": {},
   "outputs": [],
   "source": [
    "import os\n",
    "import numpy as np\n",
    "import pandas as pd\n",
    "import nltk\n",
    "from nltk.corpus import stopwords\n",
    "from nltk.tokenize import RegexpTokenizer\n",
    "from datetime import datetime\n",
    "from sklearn.feature_extraction.text import CountVectorizer\n",
    "from collections import Counter\n",
    "from sklearn.datasets import make_classification\n",
    "from imblearn.under_sampling import RandomUnderSampler\n",
    "from imblearn.under_sampling import NearMiss"
   ]
  },
  {
   "cell_type": "code",
   "execution_count": 28,
   "metadata": {},
   "outputs": [
    {
     "name": "stderr",
     "output_type": "stream",
     "text": [
      "[nltk_data] Downloading package stopwords to\n",
      "[nltk_data]     /Users/SumedhaRai/nltk_data...\n",
      "[nltk_data]   Unzipping corpora/stopwords.zip.\n"
     ]
    },
    {
     "data": {
      "text/plain": [
       "True"
      ]
     },
     "execution_count": 28,
     "metadata": {},
     "output_type": "execute_result"
    }
   ],
   "source": [
    "nltk.download('stopwords')"
   ]
  },
  {
   "cell_type": "code",
   "execution_count": 3,
   "metadata": {},
   "outputs": [],
   "source": [
    "# loading csv files\n",
    "train_data = pd.read_csv(\"train.csv\")"
   ]
  },
  {
   "cell_type": "code",
   "execution_count": 15,
   "metadata": {},
   "outputs": [
    {
     "data": {
      "text/html": [
       "<div>\n",
       "<style scoped>\n",
       "    .dataframe tbody tr th:only-of-type {\n",
       "        vertical-align: middle;\n",
       "    }\n",
       "\n",
       "    .dataframe tbody tr th {\n",
       "        vertical-align: top;\n",
       "    }\n",
       "\n",
       "    .dataframe thead th {\n",
       "        text-align: right;\n",
       "    }\n",
       "</style>\n",
       "<table border=\"1\" class=\"dataframe\">\n",
       "  <thead>\n",
       "    <tr style=\"text-align: right;\">\n",
       "      <th></th>\n",
       "      <th>ex_id</th>\n",
       "      <th>user_id</th>\n",
       "      <th>prod_id</th>\n",
       "      <th>rating</th>\n",
       "      <th>label</th>\n",
       "      <th>date</th>\n",
       "      <th>review</th>\n",
       "    </tr>\n",
       "  </thead>\n",
       "  <tbody>\n",
       "    <tr>\n",
       "      <th>0</th>\n",
       "      <td>0</td>\n",
       "      <td>923</td>\n",
       "      <td>0</td>\n",
       "      <td>3.0</td>\n",
       "      <td>1</td>\n",
       "      <td>2014-12-08</td>\n",
       "      <td>The food at snack is a selection of popular Gr...</td>\n",
       "    </tr>\n",
       "    <tr>\n",
       "      <th>1</th>\n",
       "      <td>1</td>\n",
       "      <td>924</td>\n",
       "      <td>0</td>\n",
       "      <td>3.0</td>\n",
       "      <td>1</td>\n",
       "      <td>2013-05-16</td>\n",
       "      <td>This little place in Soho is wonderful. I had ...</td>\n",
       "    </tr>\n",
       "    <tr>\n",
       "      <th>2</th>\n",
       "      <td>2</td>\n",
       "      <td>925</td>\n",
       "      <td>0</td>\n",
       "      <td>4.0</td>\n",
       "      <td>1</td>\n",
       "      <td>2013-07-01</td>\n",
       "      <td>ordered lunch for 15 from Snack last Friday.  ...</td>\n",
       "    </tr>\n",
       "    <tr>\n",
       "      <th>3</th>\n",
       "      <td>3</td>\n",
       "      <td>926</td>\n",
       "      <td>0</td>\n",
       "      <td>4.0</td>\n",
       "      <td>1</td>\n",
       "      <td>2011-07-28</td>\n",
       "      <td>This is a beautiful quaint little restaurant o...</td>\n",
       "    </tr>\n",
       "    <tr>\n",
       "      <th>4</th>\n",
       "      <td>4</td>\n",
       "      <td>927</td>\n",
       "      <td>0</td>\n",
       "      <td>4.0</td>\n",
       "      <td>1</td>\n",
       "      <td>2010-11-01</td>\n",
       "      <td>Snack is great place for a  casual sit down lu...</td>\n",
       "    </tr>\n",
       "    <tr>\n",
       "      <th>5</th>\n",
       "      <td>5</td>\n",
       "      <td>928</td>\n",
       "      <td>0</td>\n",
       "      <td>4.0</td>\n",
       "      <td>1</td>\n",
       "      <td>2009-09-02</td>\n",
       "      <td>A solid 4 stars for this greek food spot.  If ...</td>\n",
       "    </tr>\n",
       "    <tr>\n",
       "      <th>6</th>\n",
       "      <td>7</td>\n",
       "      <td>930</td>\n",
       "      <td>0</td>\n",
       "      <td>4.0</td>\n",
       "      <td>1</td>\n",
       "      <td>2007-05-20</td>\n",
       "      <td>Love this place!  Try the Chicken sandwich or ...</td>\n",
       "    </tr>\n",
       "    <tr>\n",
       "      <th>7</th>\n",
       "      <td>8</td>\n",
       "      <td>931</td>\n",
       "      <td>0</td>\n",
       "      <td>4.0</td>\n",
       "      <td>1</td>\n",
       "      <td>2005-12-27</td>\n",
       "      <td>My friend and I were intrigued by the nightly ...</td>\n",
       "    </tr>\n",
       "    <tr>\n",
       "      <th>8</th>\n",
       "      <td>10</td>\n",
       "      <td>933</td>\n",
       "      <td>0</td>\n",
       "      <td>5.0</td>\n",
       "      <td>1</td>\n",
       "      <td>2014-01-21</td>\n",
       "      <td>pretty cool place...good food...good people</td>\n",
       "    </tr>\n",
       "    <tr>\n",
       "      <th>9</th>\n",
       "      <td>12</td>\n",
       "      <td>935</td>\n",
       "      <td>0</td>\n",
       "      <td>5.0</td>\n",
       "      <td>1</td>\n",
       "      <td>2011-01-31</td>\n",
       "      <td>Fabulous Authentic Greek Food!!! This little s...</td>\n",
       "    </tr>\n",
       "  </tbody>\n",
       "</table>\n",
       "</div>"
      ],
      "text/plain": [
       "   ex_id  user_id  prod_id  rating  label        date  \\\n",
       "0      0      923        0     3.0      1  2014-12-08   \n",
       "1      1      924        0     3.0      1  2013-05-16   \n",
       "2      2      925        0     4.0      1  2013-07-01   \n",
       "3      3      926        0     4.0      1  2011-07-28   \n",
       "4      4      927        0     4.0      1  2010-11-01   \n",
       "5      5      928        0     4.0      1  2009-09-02   \n",
       "6      7      930        0     4.0      1  2007-05-20   \n",
       "7      8      931        0     4.0      1  2005-12-27   \n",
       "8     10      933        0     5.0      1  2014-01-21   \n",
       "9     12      935        0     5.0      1  2011-01-31   \n",
       "\n",
       "                                              review  \n",
       "0  The food at snack is a selection of popular Gr...  \n",
       "1  This little place in Soho is wonderful. I had ...  \n",
       "2  ordered lunch for 15 from Snack last Friday.  ...  \n",
       "3  This is a beautiful quaint little restaurant o...  \n",
       "4  Snack is great place for a  casual sit down lu...  \n",
       "5  A solid 4 stars for this greek food spot.  If ...  \n",
       "6  Love this place!  Try the Chicken sandwich or ...  \n",
       "7  My friend and I were intrigued by the nightly ...  \n",
       "8        pretty cool place...good food...good people  \n",
       "9  Fabulous Authentic Greek Food!!! This little s...  "
      ]
     },
     "execution_count": 15,
     "metadata": {},
     "output_type": "execute_result"
    }
   ],
   "source": [
    "train_data.head(10)"
   ]
  },
  {
   "cell_type": "code",
   "execution_count": 13,
   "metadata": {},
   "outputs": [
    {
     "data": {
      "text/plain": [
       "5.0    98468\n",
       "4.0    94547\n",
       "3.0    33261\n",
       "2.0    14537\n",
       "1.0    10061\n",
       "Name: rating, dtype: int64"
      ]
     },
     "execution_count": 13,
     "metadata": {},
     "output_type": "execute_result"
    }
   ],
   "source": [
    "# summarise columns by unique values\n",
    "train_data['rating'].value_counts()"
   ]
  },
  {
   "cell_type": "code",
   "execution_count": 22,
   "metadata": {},
   "outputs": [
    {
     "data": {
      "text/plain": [
       "ex_id      0\n",
       "user_id    0\n",
       "prod_id    0\n",
       "rating     0\n",
       "label      0\n",
       "date       0\n",
       "review     0\n",
       "dtype: int64"
      ]
     },
     "execution_count": 22,
     "metadata": {},
     "output_type": "execute_result"
    }
   ],
   "source": [
    "# count number of null values in every column of the df\n",
    "pd.isnull(train_data).sum()\n",
    "\n",
    "# Result - No null values "
   ]
  },
  {
   "cell_type": "code",
   "execution_count": 23,
   "metadata": {},
   "outputs": [],
   "source": [
    "temp = train_data"
   ]
  },
  {
   "cell_type": "code",
   "execution_count": 31,
   "metadata": {},
   "outputs": [
    {
     "name": "stdout",
     "output_type": "stream",
     "text": [
      "Data Cleaning Complete\n"
     ]
    }
   ],
   "source": [
    "# Data  Cleaning - understand this later\n",
    "\n",
    "# remove stop words\n",
    "stop = stopwords.words('english')\n",
    "temp['review'] = temp['review'].apply(lambda x: ' '.join(word for word in x.split() if word not in stop))\n",
    "\n",
    "# remove all punctuations\n",
    "tokenizer = RegexpTokenizer(r'\\w+')\n",
    "temp['review'] = temp['review'].apply(lambda x: ' '.join(word for word in tokenizer.tokenize(x)))\n",
    "\n",
    "# make the words lowercase\n",
    "temp['review'] = temp['review'].apply(lambda x: x.lower())\n",
    "\n",
    "print(\"Data Cleaning Complete\")\n"
   ]
  },
  {
   "cell_type": "code",
   "execution_count": 32,
   "metadata": {},
   "outputs": [
    {
     "data": {
      "text/html": [
       "<div>\n",
       "<style scoped>\n",
       "    .dataframe tbody tr th:only-of-type {\n",
       "        vertical-align: middle;\n",
       "    }\n",
       "\n",
       "    .dataframe tbody tr th {\n",
       "        vertical-align: top;\n",
       "    }\n",
       "\n",
       "    .dataframe thead th {\n",
       "        text-align: right;\n",
       "    }\n",
       "</style>\n",
       "<table border=\"1\" class=\"dataframe\">\n",
       "  <thead>\n",
       "    <tr style=\"text-align: right;\">\n",
       "      <th></th>\n",
       "      <th>ex_id</th>\n",
       "      <th>user_id</th>\n",
       "      <th>prod_id</th>\n",
       "      <th>rating</th>\n",
       "      <th>label</th>\n",
       "      <th>date</th>\n",
       "      <th>review</th>\n",
       "    </tr>\n",
       "  </thead>\n",
       "  <tbody>\n",
       "    <tr>\n",
       "      <th>0</th>\n",
       "      <td>0</td>\n",
       "      <td>923</td>\n",
       "      <td>0</td>\n",
       "      <td>3.0</td>\n",
       "      <td>1</td>\n",
       "      <td>2014-12-08</td>\n",
       "      <td>the food snack selection popular greek dishes ...</td>\n",
       "    </tr>\n",
       "    <tr>\n",
       "      <th>1</th>\n",
       "      <td>1</td>\n",
       "      <td>924</td>\n",
       "      <td>0</td>\n",
       "      <td>3.0</td>\n",
       "      <td>1</td>\n",
       "      <td>2013-05-16</td>\n",
       "      <td>this little place soho wonderful i lamb sandwi...</td>\n",
       "    </tr>\n",
       "    <tr>\n",
       "      <th>2</th>\n",
       "      <td>2</td>\n",
       "      <td>925</td>\n",
       "      <td>0</td>\n",
       "      <td>4.0</td>\n",
       "      <td>1</td>\n",
       "      <td>2013-07-01</td>\n",
       "      <td>ordered lunch 15 snack last friday on time not...</td>\n",
       "    </tr>\n",
       "    <tr>\n",
       "      <th>3</th>\n",
       "      <td>3</td>\n",
       "      <td>926</td>\n",
       "      <td>0</td>\n",
       "      <td>4.0</td>\n",
       "      <td>1</td>\n",
       "      <td>2011-07-28</td>\n",
       "      <td>this beautiful quaint little restaurant pretty...</td>\n",
       "    </tr>\n",
       "    <tr>\n",
       "      <th>4</th>\n",
       "      <td>4</td>\n",
       "      <td>927</td>\n",
       "      <td>0</td>\n",
       "      <td>4.0</td>\n",
       "      <td>1</td>\n",
       "      <td>2010-11-01</td>\n",
       "      <td>snack great place casual sit lunch especially ...</td>\n",
       "    </tr>\n",
       "    <tr>\n",
       "      <th>5</th>\n",
       "      <td>5</td>\n",
       "      <td>928</td>\n",
       "      <td>0</td>\n",
       "      <td>4.0</td>\n",
       "      <td>1</td>\n",
       "      <td>2009-09-02</td>\n",
       "      <td>a solid 4 stars greek food spot if fan lamb li...</td>\n",
       "    </tr>\n",
       "    <tr>\n",
       "      <th>6</th>\n",
       "      <td>7</td>\n",
       "      <td>930</td>\n",
       "      <td>0</td>\n",
       "      <td>4.0</td>\n",
       "      <td>1</td>\n",
       "      <td>2007-05-20</td>\n",
       "      <td>love place try chicken sandwich roasted chicke...</td>\n",
       "    </tr>\n",
       "    <tr>\n",
       "      <th>7</th>\n",
       "      <td>8</td>\n",
       "      <td>931</td>\n",
       "      <td>0</td>\n",
       "      <td>4.0</td>\n",
       "      <td>1</td>\n",
       "      <td>2005-12-27</td>\n",
       "      <td>my friend i intrigued nightly entree special l...</td>\n",
       "    </tr>\n",
       "    <tr>\n",
       "      <th>8</th>\n",
       "      <td>10</td>\n",
       "      <td>933</td>\n",
       "      <td>0</td>\n",
       "      <td>5.0</td>\n",
       "      <td>1</td>\n",
       "      <td>2014-01-21</td>\n",
       "      <td>pretty cool place good food good people</td>\n",
       "    </tr>\n",
       "    <tr>\n",
       "      <th>9</th>\n",
       "      <td>12</td>\n",
       "      <td>935</td>\n",
       "      <td>0</td>\n",
       "      <td>5.0</td>\n",
       "      <td>1</td>\n",
       "      <td>2011-01-31</td>\n",
       "      <td>fabulous authentic greek food this little spot...</td>\n",
       "    </tr>\n",
       "  </tbody>\n",
       "</table>\n",
       "</div>"
      ],
      "text/plain": [
       "   ex_id  user_id  prod_id  rating  label        date  \\\n",
       "0      0      923        0     3.0      1  2014-12-08   \n",
       "1      1      924        0     3.0      1  2013-05-16   \n",
       "2      2      925        0     4.0      1  2013-07-01   \n",
       "3      3      926        0     4.0      1  2011-07-28   \n",
       "4      4      927        0     4.0      1  2010-11-01   \n",
       "5      5      928        0     4.0      1  2009-09-02   \n",
       "6      7      930        0     4.0      1  2007-05-20   \n",
       "7      8      931        0     4.0      1  2005-12-27   \n",
       "8     10      933        0     5.0      1  2014-01-21   \n",
       "9     12      935        0     5.0      1  2011-01-31   \n",
       "\n",
       "                                              review  \n",
       "0  the food snack selection popular greek dishes ...  \n",
       "1  this little place soho wonderful i lamb sandwi...  \n",
       "2  ordered lunch 15 snack last friday on time not...  \n",
       "3  this beautiful quaint little restaurant pretty...  \n",
       "4  snack great place casual sit lunch especially ...  \n",
       "5  a solid 4 stars greek food spot if fan lamb li...  \n",
       "6  love place try chicken sandwich roasted chicke...  \n",
       "7  my friend i intrigued nightly entree special l...  \n",
       "8            pretty cool place good food good people  \n",
       "9  fabulous authentic greek food this little spot...  "
      ]
     },
     "execution_count": 32,
     "metadata": {},
     "output_type": "execute_result"
    }
   ],
   "source": [
    "temp.head(10)"
   ]
  },
  {
   "cell_type": "code",
   "execution_count": null,
   "metadata": {},
   "outputs": [],
   "source": [
    "# Feature Engineering techniques"
   ]
  },
  {
   "cell_type": "code",
   "execution_count": 37,
   "metadata": {
    "scrolled": false
   },
   "outputs": [],
   "source": [
    "# Bag of Words model\n",
    "# try both count and tfid\n",
    "vectorizer = CountVectorizer()"
   ]
  },
  {
   "cell_type": "code",
   "execution_count": 41,
   "metadata": {},
   "outputs": [
    {
     "data": {
      "text/plain": [
       "pandas.core.series.Series"
      ]
     },
     "execution_count": 41,
     "metadata": {},
     "output_type": "execute_result"
    }
   ],
   "source": [
    "corpus = temp['review']\n",
    "type(corpus)"
   ]
  },
  {
   "cell_type": "code",
   "execution_count": 42,
   "metadata": {},
   "outputs": [],
   "source": [
    "X = vectorizer.fit_transform(corpus) # understand sparse matrices"
   ]
  },
  {
   "cell_type": "code",
   "execution_count": 46,
   "metadata": {},
   "outputs": [
    {
     "data": {
      "text/plain": [
       "scipy.sparse.csr.csr_matrix"
      ]
     },
     "execution_count": 46,
     "metadata": {},
     "output_type": "execute_result"
    }
   ],
   "source": [
    "type(X)"
   ]
  },
  {
   "cell_type": "code",
   "execution_count": 47,
   "metadata": {},
   "outputs": [
    {
     "name": "stdout",
     "output_type": "stream",
     "text": [
      "  (0, 95959)\t2\n",
      "  (0, 38119)\t1\n",
      "  (0, 88445)\t1\n",
      "  (0, 84863)\t1\n",
      "  (0, 74151)\t1\n",
      "  (0, 43006)\t2\n",
      "  (0, 29325)\t1\n",
      "  (0, 6876)\t1\n",
      "  (0, 98416)\t1\n",
      "  (0, 42167)\t1\n",
      "  (0, 82548)\t1\n",
      "  (0, 104302)\t1\n",
      "  (0, 100384)\t1\n",
      "  (0, 58278)\t1\n",
      "  (0, 24270)\t1\n",
      "  (0, 96115)\t1\n",
      "  (0, 94039)\t1\n",
      "  (0, 89118)\t1\n",
      "  (0, 44790)\t1\n",
      "  (0, 41084)\t1\n",
      "  (0, 84593)\t1\n",
      "  (1, 95959)\t2\n",
      "  (1, 38119)\t1\n",
      "  (1, 96330)\t1\n",
      "  (1, 56458)\t2\n",
      "  :\t:\n",
      "  (250873, 42626)\t1\n",
      "  (250873, 67877)\t1\n",
      "  (250873, 105024)\t1\n",
      "  (250873, 23716)\t1\n",
      "  (250873, 100735)\t2\n",
      "  (250873, 64297)\t1\n",
      "  (250873, 72926)\t3\n",
      "  (250873, 32701)\t6\n",
      "  (250873, 18221)\t1\n",
      "  (250873, 78756)\t1\n",
      "  (250873, 25348)\t1\n",
      "  (250873, 83353)\t2\n",
      "  (250873, 29757)\t1\n",
      "  (250873, 94389)\t1\n",
      "  (250873, 29256)\t1\n",
      "  (250873, 27096)\t1\n",
      "  (250873, 39601)\t1\n",
      "  (250873, 53732)\t1\n",
      "  (250873, 20603)\t1\n",
      "  (250873, 91674)\t1\n",
      "  (250873, 62972)\t3\n",
      "  (250873, 64646)\t1\n",
      "  (250873, 45678)\t2\n",
      "  (250873, 23639)\t1\n",
      "  (250873, 77438)\t1\n"
     ]
    }
   ],
   "source": [
    "print(X)"
   ]
  },
  {
   "cell_type": "code",
   "execution_count": 8,
   "metadata": {},
   "outputs": [],
   "source": [
    "# trying out undersampling - Random Sampler\n",
    "\n",
    "temp_X = train_data.drop(['label'], axis=1)\n",
    "temp_y = train_data['label']\n"
   ]
  },
  {
   "cell_type": "code",
   "execution_count": 9,
   "metadata": {},
   "outputs": [],
   "source": [
    "rus = RandomUnderSampler(random_state=0)\n",
    "X_resampled, y_resampled = rus.fit_resample(temp_X, temp_y)"
   ]
  },
  {
   "cell_type": "code",
   "execution_count": 18,
   "metadata": {},
   "outputs": [
    {
     "data": {
      "text/plain": [
       "0    89.70838\n",
       "1    10.29162\n",
       "Name: label, dtype: float64"
      ]
     },
     "execution_count": 18,
     "metadata": {},
     "output_type": "execute_result"
    }
   ],
   "source": [
    "(train_data['label'].value_counts())/len(train_data) * 100"
   ]
  },
  {
   "cell_type": "code",
   "execution_count": 20,
   "metadata": {},
   "outputs": [
    {
     "data": {
      "text/plain": [
       "1    50.0\n",
       "0    50.0\n",
       "Name: label, dtype: float64"
      ]
     },
     "execution_count": 20,
     "metadata": {},
     "output_type": "execute_result"
    }
   ],
   "source": [
    "(y_resampled.value_counts())/len(y_resampled) * 100"
   ]
  },
  {
   "cell_type": "code",
   "execution_count": 22,
   "metadata": {},
   "outputs": [
    {
     "data": {
      "text/plain": [
       "250874"
      ]
     },
     "execution_count": 22,
     "metadata": {},
     "output_type": "execute_result"
    }
   ],
   "source": [
    "len(temp_y)"
   ]
  },
  {
   "cell_type": "code",
   "execution_count": null,
   "metadata": {},
   "outputs": [],
   "source": []
  }
 ],
 "metadata": {
  "kernelspec": {
   "display_name": "Python 3",
   "language": "python",
   "name": "python3"
  },
  "language_info": {
   "codemirror_mode": {
    "name": "ipython",
    "version": 3
   },
   "file_extension": ".py",
   "mimetype": "text/x-python",
   "name": "python",
   "nbconvert_exporter": "python",
   "pygments_lexer": "ipython3",
   "version": "3.7.3"
  }
 },
 "nbformat": 4,
 "nbformat_minor": 2
}
